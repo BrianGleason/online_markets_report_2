{
 "cells": [
  {
   "cell_type": "markdown",
   "id": "94d9a193",
   "metadata": {},
   "source": [
    "Bimatrix games, different equilibria\n",
    "    - Generate list of matrices (m1 = round 1)\n",
    "    - Pure nash\n",
    "    - Mixed nash\n",
    "    - Prisoners' dilemma\n",
    "    - RPS\n",
    "    - Skip coarse-correlated equilibriums\n",
    "\n",
    "FTL, OL, FTRL (regularized based on how recent the feedback was - *constant/i )\n",
    "  A   B\n",
    "X AX  BX\n",
    "Y AY  BY\n",
    "Online Learning\n",
    "    - Given opponent took action X, we give alg AX, BX\n",
    "MAB\n",
    "    - Given opponent took action X and we took action A, we give MAB just AX"
   ]
  },
  {
   "cell_type": "code",
   "execution_count": null,
   "id": "db209979",
   "metadata": {},
   "outputs": [],
   "source": [
    "import random\n",
    "\n",
    "def generate_dominant_strategy(num_actions, num_rounds):\n",
    "    pass\n",
    "\n",
    "def generate_pure_nash(num_actions, num_rounds):\n",
    "    pass\n",
    "\n",
    "def generate_mixed_nash(num_actions, num_rounds):\n",
    "    pass\n",
    "\n",
    "def generate_prisoners(num_actions, num_rounds):\n",
    "    pass\n",
    "\n",
    "def generate_rps(num_actions, num_rounds):\n",
    "    pass\n",
    "\n"
   ]
  },
  {
   "cell_type": "code",
   "execution_count": null,
   "id": "1e5c5fdc",
   "metadata": {},
   "outputs": [],
   "source": []
  }
 ],
 "metadata": {
  "kernelspec": {
   "display_name": "Python 3 (ipykernel)",
   "language": "python",
   "name": "python3"
  },
  "language_info": {
   "codemirror_mode": {
    "name": "ipython",
    "version": 3
   },
   "file_extension": ".py",
   "mimetype": "text/x-python",
   "name": "python",
   "nbconvert_exporter": "python",
   "pygments_lexer": "ipython3",
   "version": "3.7.8"
  }
 },
 "nbformat": 4,
 "nbformat_minor": 5
}
