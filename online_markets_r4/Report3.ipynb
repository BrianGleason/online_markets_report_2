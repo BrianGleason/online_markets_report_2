{
 "cells": [
  {
   "cell_type": "markdown",
   "id": "b62babec",
   "metadata": {},
   "source": [
    "# Part 1"
   ]
  },
  {
   "cell_type": "code",
   "execution_count": 1,
   "id": "5865ae0e",
   "metadata": {},
   "outputs": [],
   "source": [
    "import matplotlib.pyplot as plt\n",
    "import seaborn as sns"
   ]
  },
  {
   "cell_type": "markdown",
   "id": "9d135278",
   "metadata": {},
   "source": [
    "## Generation Methods"
   ]
  },
  {
   "cell_type": "code",
   "execution_count": null,
   "id": "5854e47b",
   "metadata": {},
   "outputs": [],
   "source": []
  },
  {
   "cell_type": "markdown",
   "id": "da59835e",
   "metadata": {},
   "source": [
    "## Algorithm Classes"
   ]
  },
  {
   "cell_type": "code",
   "execution_count": 5,
   "id": "7c8d86c2",
   "metadata": {},
   "outputs": [],
   "source": [
    "class ExponentialWeights:\n",
    "    \n",
    "    def __init__(self, epsilon, num_actions=2):\n",
    "        self.weights_vector = [1 for i in range(num_actions)]\n",
    "        self.totals_by_round = []\n",
    "        self.payoffs_by_round = []\n",
    "        self.choices_by_round = []\n",
    "        self.actions_list = [i for i in range(num_actions)]\n",
    "        self.epsilon = epsilon\n",
    "        self.num_actions = num_actions\n",
    "        \n",
    "    def reset_instance(self, epsilon=None, num_actions=2):\n",
    "        self.weights_vector = [1 for i in range(num_actions)]\n",
    "        self.totals_by_round = []\n",
    "        self.payoffs_by_round = []\n",
    "        self.choices_by_round = []\n",
    "        self.actions_list = [i for i in range(num_actions)]\n",
    "        self.num_actions = num_actions\n",
    "        if epsilon == None:\n",
    "            self.epsilon = self.epsilon\n",
    "        else:\n",
    "            epsilon = None\n",
    "    \n",
    "    def choose_action(self, max_payoff):\n",
    "        # find weights\n",
    "        current_weights = [None for i in range(self.num_actions)]\n",
    "        for action in range(self.num_actions):\n",
    "            if self.totals_by_round == []:\n",
    "                V_last = 0\n",
    "            else:\n",
    "                V_last = self.totals_by_round[-1][action]\n",
    "            exp = V_last / max_payoff\n",
    "            current_weights[action] = pow(1 + self.epsilon, exp)\n",
    "        # randomly select from actions using weights as probabilities\n",
    "        selected_action = random.choices(self.actions_list, weights=current_weights, k=1)[0]\n",
    "        self.choices_by_round.append(selected_action)\n",
    "        self.weights_vector.append(current_weights)\n",
    "        return selected_action\n",
    "    \n",
    "    def process_payoff(self, selected_payoff, payoff_list):\n",
    "        # add new payoffs to totals, add payoff choice this round to payoffs matrix\n",
    "        self.payoffs_by_round.append(selected_payoff)\n",
    "        if self.totals_by_round == []: \n",
    "            self.totals_by_round.append([payoff_list[i] for i in range(self.num_actions)])\n",
    "        else:\n",
    "            last_round_totals = self.totals_by_round[-1]\n",
    "            self.totals_by_round.append([last_round_totals[i] + payoff_list[i] for i in range(self.num_actions)])\n",
    "                \n",
    "            \n",
    "    #NOTE: totals_by_round[-1] at the end of the simulation will help find 'OPT'"
   ]
  },
  {
   "cell_type": "code",
   "execution_count": 6,
   "id": "2b21f57b",
   "metadata": {},
   "outputs": [],
   "source": [
    "class FTL:\n",
    "    \n",
    "    def __init__(self, num_actions=2):\n",
    "        self.totals_by_round = []\n",
    "        self.payoffs_by_round = []\n",
    "        self.choices_by_round = []\n",
    "        self.actions_list = [i for i in range(num_actions)]\n",
    "        self.num_actions = num_actions\n",
    "        \n",
    "    def reset_instance(self, num_actions=2):\n",
    "        self.totals_by_round = []\n",
    "        self.payoffs_by_round = []\n",
    "        self.choices_by_round = []\n",
    "        self.actions_list = [i for i in range(num_actions)]\n",
    "        self.num_actions = num_actions\n",
    "    \n",
    "    def choose_action(self, max_payoff):\n",
    "        # randomly select from actions using highest total payoff so far\n",
    "        if self.totals_by_round != []:\n",
    "            selected_action = self.totals_by_round[-1].index(max(self.totals_by_round[-1]))\n",
    "            self.choices_by_round.append(selected_action)\n",
    "            return selected_action\n",
    "        else:\n",
    "            selected_action = random.randrange(0, self.num_actions)\n",
    "            return selected_action\n",
    "    \n",
    "    def process_payoff(self, selected_payoff, payoff_list):\n",
    "        # add new payoffs to totals, add payoff choice this round to payoffs matrix\n",
    "        self.payoffs_by_round.append(selected_payoff)\n",
    "        if self.totals_by_round == []: \n",
    "            self.totals_by_round.append([payoff_list[i] for i in range(self.num_actions)])\n",
    "        else:\n",
    "            last_round_totals = self.totals_by_round[-1]\n",
    "            self.totals_by_round.append([last_round_totals[i] + payoff_list[i] for i in range(self.num_actions)])\n",
    "                \n",
    "            \n",
    "    #NOTE: totals_by_round[-1] at the end of the simulation will help find 'OPT'"
   ]
  },
  {
   "cell_type": "markdown",
   "id": "3adabd99",
   "metadata": {},
   "source": [
    "## Auction Simulator"
   ]
  },
  {
   "cell_type": "code",
   "execution_count": 2,
   "id": "ee556ec8",
   "metadata": {
    "scrolled": true
   },
   "outputs": [],
   "source": [
    "# helpers to find regret of an algorithm\n",
    "def sum_to_round_i(alg_payoffs, current_round):\n",
    "    total = 0\n",
    "    for i in range(current_round):\n",
    "        total += alg_payoffs[i]\n",
    "    return total\n",
    "\n",
    "def individual_regrets(alg_payoffs, round_totals):\n",
    "    final_payoffs = round_totals[-1]\n",
    "    opt_action = final_payoffs.index(max(final_payoffs))\n",
    "    #print(opt_action)\n",
    "    individual_regrets = [0 for i in range(len(alg_payoffs))]\n",
    "    for round in range((len(alg_payoffs))):\n",
    "        individual_regrets[round] = (round_totals[round][opt_action] - sum_to_round_i(alg_payoffs, round)) / (round + 1)\n",
    "    return individual_regrets\n",
    "\n",
    "\n",
    "def auction_round_simulator(alg1, bid_lists, num_rounds, max_payoff):\n",
    "    num_actions = len(payoff_matrix)\n",
    "    pass\n"
   ]
  },
  {
   "cell_type": "code",
   "execution_count": 8,
   "id": "33f30eb3",
   "metadata": {},
   "outputs": [],
   "source": [
    "## Delete contents of result file ### \n",
    "\n",
    "# DO NOT RUN INDIVIDUALLY #\n",
    "\n",
    "file = open(\"results.txt\",\"r+\")\n",
    "file.truncate(0)\n",
    "file.close()"
   ]
  },
  {
   "cell_type": "markdown",
   "id": "a27cc0b9",
   "metadata": {},
   "source": [
    "## Visualization of Regrets"
   ]
  },
  {
   "cell_type": "code",
   "execution_count": 9,
   "id": "bcee8aa5",
   "metadata": {},
   "outputs": [],
   "source": [
    "def visualize_regret(alg_results, rounds, lr_1, lr_2, plot_title, alg_1_name, alg_2_name, trial_type):\n",
    "    \n",
    "    file_name = trial_type + '_' + alg_1_name + alg_2_name + \"_\" + f'{lr_1}' + \"_\" + f'{lr_2}' + '.png'\n",
    "    \n",
    "    x = np.array(list(range(0, rounds)))\n",
    "    y_1 = np.array(alg_results[0])\n",
    "    y_2 = np.array(alg_results[1])\n",
    "    plt.plot(x, y_1, label='{alg_1_name}, learning rate = {lr_1}'.format(alg_1_name=alg_1_name, lr_1 = lr_1), linewidth=1)\n",
    "    plt.plot(x, y_2, label='{alg_2_name}, learning rate = {lr_2}'.format(alg_2_name=alg_2_name, lr_2 = lr_2), linewidth=1)\n",
    "    plt.xlabel(\"Round\")\n",
    "    plt.ylabel(\"Average Regret Per Round\")\n",
    "    plt.title(plot_title)\n",
    "    plt.legend(loc='best', prop={'size': 7})\n",
    "    \n",
    "    plt.savefig(file_name)\n",
    "\n",
    "    plt.show()\n",
    "    \n",
    "    file1 = open(\"results.txt\", \"a\")  # append mode\n",
    "    file1.write(file_name + \", alg1\" + \": \" + f'{alg_results[2]}' + \"\\n\")\n",
    "    file1.write(file_name + \", alg2\" + \": \" f'{alg_results[3]}' + \"\\n\")\n",
    "    file1.close()"
   ]
  },
  {
   "cell_type": "markdown",
   "id": "b058859a",
   "metadata": {},
   "source": [
    "## Auction Monte Carlo Trials"
   ]
  },
  {
   "cell_type": "code",
   "execution_count": null,
   "id": "aa939eeb",
   "metadata": {},
   "outputs": [],
   "source": [
    "def matchup_trial(alg1, alg2, bid_lists, num_rounds):\n",
    "    alg1_avg_regret_per_round, alg2_avg_regret_per_round = None, None\n",
    "    alg1_dev_from_nash_list, alg2_dev_from_nash_list = [], []\n",
    "    alg1_payoffs = []\n",
    "    alg2_payoffs = []\n",
    "\n",
    "    for bid_list in bid_lists:\n",
    "        pass"
   ]
  },
  {
   "cell_type": "markdown",
   "id": "210c9fde",
   "metadata": {},
   "source": [
    "## Run Trials on Different Auction Types"
   ]
  },
  {
   "cell_type": "code",
   "execution_count": null,
   "id": "8767fc07",
   "metadata": {},
   "outputs": [],
   "source": []
  }
 ],
 "metadata": {
  "kernelspec": {
   "display_name": "Python 3 (ipykernel)",
   "language": "python",
   "name": "python3"
  },
  "language_info": {
   "codemirror_mode": {
    "name": "ipython",
    "version": 3
   },
   "file_extension": ".py",
   "mimetype": "text/x-python",
   "name": "python",
   "nbconvert_exporter": "python",
   "pygments_lexer": "ipython3",
   "version": "3.10.1"
  }
 },
 "nbformat": 4,
 "nbformat_minor": 5
}
