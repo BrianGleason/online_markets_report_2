{
 "cells": [
  {
   "cell_type": "markdown",
   "id": "b62babec",
   "metadata": {},
   "source": [
    "# Part 1"
   ]
  },
  {
   "cell_type": "code",
   "execution_count": 96,
   "id": "5865ae0e",
   "metadata": {},
   "outputs": [],
   "source": [
    "import matplotlib.pyplot as plt\n",
    "import seaborn as sns\n",
    "import math\n",
    "import numpy\n",
    "import random"
   ]
  },
  {
   "cell_type": "markdown",
   "id": "9d135278",
   "metadata": {},
   "source": [
    "## Generation Methods"
   ]
  },
  {
   "cell_type": "code",
   "execution_count": 97,
   "id": "5854e47b",
   "metadata": {},
   "outputs": [],
   "source": [
    "def generate_random_bidlist(num_bidders, num_rounds):\n",
    "    bid_list = []\n",
    "    for i in range(num_rounds):\n",
    "        bidder_bids = [random.random() for i in range(num_bidders)]\n",
    "        bid_list.append(bidder_bids)\n",
    "    return bid_list\n",
    "\n",
    "def generate_quadratic_bidlist(num_bidders, num_rounds):\n",
    "    bid_list = []\n",
    "    for i in range(num_rounds):\n",
    "        bidder_bids = [math.sqrt(random.random()) for i in range(num_bidders)]\n",
    "        bid_list.append(bidder_bids)\n",
    "    return bid_list\n",
    "\n",
    "def generate_exponential_bids(num_bidders, num_rounds):\n",
    "    bids_uncapped = numpy.random.exponential(scale=1.0, size=num_bidders)\n",
    "    for index in range(num_bidders):\n",
    "        if bids_uncapped[index] > 10:\n",
    "            bids_uncapped[index] = 10\n",
    "    return bids_uncapped\n",
    "\n",
    "def generate_exponential_bidlist(num_bidders, num_rounds):\n",
    "    return [generate_exponential_bids(num_bidders, num_rounds) for i in range(num_rounds)]\n",
    "\n",
    "def generate_linear_discretization(min_val, max_val, epsilon):\n",
    "    action_list = []\n",
    "    temp_val = min_val\n",
    "    j = 0\n",
    "    while temp_val <= max_val:\n",
    "        action_list.append(temp_val)\n",
    "        j += 1\n",
    "        temp_val = epsilon * j\n",
    "    return action_list\n",
    "\n",
    "# this doesn't work yet, still trying to figure it out\n",
    "def generate_geometric_discretization(min_val, max_val, epsilon):\n",
    "    action_list = []\n",
    "    k = 1/e * numpy.log(v)\n",
    "    \n",
    "#print(generate_linear_discretization(0, 1, .05))\n"
   ]
  },
  {
   "cell_type": "markdown",
   "id": "da59835e",
   "metadata": {},
   "source": [
    "## Algorithm Classes"
   ]
  },
  {
   "cell_type": "code",
   "execution_count": 98,
   "id": "7c8d86c2",
   "metadata": {},
   "outputs": [],
   "source": [
    "class ExponentialWeights:\n",
    "    \n",
    "    def __init__(self, epsilon, num_actions=2):\n",
    "        self.weights_vector = [1 for i in range(num_actions)]\n",
    "        self.totals_by_round = []\n",
    "        self.payoffs_by_round = []\n",
    "        self.choices_by_round = []\n",
    "        self.actions_list = [i for i in range(num_actions)]\n",
    "        self.epsilon = epsilon\n",
    "        self.num_actions = num_actions\n",
    "        \n",
    "    def reset_instance(self, num_actions=2):\n",
    "        self.weights_vector = [1 for i in range(num_actions)]\n",
    "        self.totals_by_round = []\n",
    "        self.payoffs_by_round = []\n",
    "        self.choices_by_round = []\n",
    "        self.actions_list = [i for i in range(num_actions)]\n",
    "        self.num_actions = num_actions\n",
    "\n",
    "    \n",
    "    def choose_action(self, max_payoff):\n",
    "        # find weights\n",
    "        current_weights = [None for i in range(self.num_actions)]\n",
    "        for action in range(self.num_actions):\n",
    "            if self.totals_by_round == []:\n",
    "                V_last = 0\n",
    "            else:\n",
    "                V_last = self.totals_by_round[-1][action]\n",
    "            exp = V_last / max_payoff\n",
    "            current_weights[action] = pow(1 + self.epsilon, exp)\n",
    "        # randomly select from actions using weights as probabilities\n",
    "        selected_action = random.choices(self.actions_list, weights=current_weights, k=1)[0]\n",
    "        self.choices_by_round.append(selected_action)\n",
    "        self.weights_vector.append(current_weights)\n",
    "        #print('current weights', current_weights)\n",
    "        return selected_action\n",
    "    \n",
    "    def process_payoff(self, selected_payoff, payoff_list):\n",
    "        # add new payoffs to totals, add payoff choice this round to payoffs matrix\n",
    "        self.payoffs_by_round.append(selected_payoff)\n",
    "        if self.totals_by_round == []: \n",
    "            self.totals_by_round.append([payoff_list[i] for i in range(self.num_actions)])\n",
    "        else:\n",
    "            last_round_totals = self.totals_by_round[-1]\n",
    "            self.totals_by_round.append([last_round_totals[i] + payoff_list[i] for i in range(self.num_actions)])\n",
    "                \n",
    "            \n",
    "    #NOTE: totals_by_round[-1] at the end of the simulation will help find 'OPT'"
   ]
  },
  {
   "cell_type": "code",
   "execution_count": 99,
   "id": "2b21f57b",
   "metadata": {},
   "outputs": [],
   "source": [
    "class FTL:\n",
    "    \n",
    "    def __init__(self, num_actions=2):\n",
    "        self.totals_by_round = []\n",
    "        self.payoffs_by_round = []\n",
    "        self.choices_by_round = []\n",
    "        self.actions_list = [i for i in range(num_actions)]\n",
    "        self.num_actions = num_actions\n",
    "        \n",
    "    def reset_instance(self, num_actions=2):\n",
    "        self.totals_by_round = []\n",
    "        self.payoffs_by_round = []\n",
    "        self.choices_by_round = []\n",
    "        self.actions_list = [i for i in range(num_actions)]\n",
    "        self.num_actions = num_actions\n",
    "    \n",
    "    def choose_action(self, max_payoff):\n",
    "        # randomly select from actions using highest total payoff so far\n",
    "        if self.totals_by_round != []:\n",
    "            selected_action = self.totals_by_round[-1].index(max(self.totals_by_round[-1]))\n",
    "            self.choices_by_round.append(selected_action)\n",
    "            return selected_action\n",
    "        else:\n",
    "            selected_action = random.randrange(0, self.num_actions)\n",
    "            return selected_action\n",
    "    \n",
    "    def process_payoff(self, selected_payoff, payoff_list):\n",
    "        # add new payoffs to totals, add payoff choice this round to payoffs matrix\n",
    "        self.payoffs_by_round.append(selected_payoff)\n",
    "        if self.totals_by_round == []: \n",
    "            self.totals_by_round.append([payoff_list[i] for i in range(self.num_actions)])\n",
    "        else:\n",
    "            last_round_totals = self.totals_by_round[-1]\n",
    "            self.totals_by_round.append([last_round_totals[i] + payoff_list[i] for i in range(self.num_actions)])\n",
    "                \n",
    "            \n",
    "    #NOTE: totals_by_round[-1] at the end of the simulation will help find 'OPT'"
   ]
  },
  {
   "cell_type": "markdown",
   "id": "3adabd99",
   "metadata": {},
   "source": [
    "## Auction Simulator"
   ]
  },
  {
   "cell_type": "code",
   "execution_count": 100,
   "id": "ee556ec8",
   "metadata": {
    "scrolled": true
   },
   "outputs": [],
   "source": [
    "# helpers to find regret of an algorithm\n",
    "def sum_to_round_i(alg_payoffs, current_round):\n",
    "    total = 0\n",
    "    for i in range(current_round):\n",
    "        total += alg_payoffs[i]\n",
    "    return total\n",
    "\n",
    "def individual_regrets(alg_payoffs, round_totals):\n",
    "    final_payoffs = round_totals[-1]\n",
    "    opt_action = final_payoffs.index(max(final_payoffs))\n",
    "    individual_regrets = [0 for i in range(len(alg_payoffs))]\n",
    "    for round_x in range((len(alg_payoffs))):\n",
    "        individual_regrets[round_x] = (round_totals[round_x][opt_action] - sum_to_round_i(alg_payoffs, round_x)) / (round_x + 1)\n",
    "    return individual_regrets\n",
    "\n",
    "def find_payoff(r_price, bid_list):\n",
    "    sorted_bids = sorted(bid_list, reverse=True)\n",
    "    max_bid = sorted_bids[0]\n",
    "    second_bid = sorted_bids[1]\n",
    "    if r_price > second_bid and r_price <= max_bid:\n",
    "        return r_price\n",
    "    elif r_price > second_bid and r_price > max_bid:\n",
    "        return 0\n",
    "    else:\n",
    "        return second_bid\n",
    "\n",
    "def auction_simulator(alg, bid_lists, num_rounds, max_bid, price_discretization):\n",
    "    num_actions = len(price_discretization)\n",
    "    for bid_list in bid_lists:\n",
    "        # have the algorithm select a bid\n",
    "        alg_action = alg.choose_action(max_bid)\n",
    "        alg_price = price_discretization[alg_action]\n",
    "        \n",
    "        # calculate payoff list for each reserve price on the discretization\n",
    "        payoff_list = []\n",
    "        for reserve_price in price_discretization:\n",
    "            payoff_list.append(find_payoff(reserve_price, bid_list))\n",
    "        alg_payoff = payoff_list[alg_action]\n",
    "        alg.process_payoff(alg_payoff, payoff_list)\n",
    "    \n",
    "    # calculate regrets and payoffs\n",
    "    alg_regrets = individual_regrets(alg.payoffs_by_round, alg.totals_by_round)\n",
    "    alg_payoffs = alg.payoffs_by_round\n",
    "    \n",
    "    return alg_regrets, alg_payoffs\n",
    "\n",
    "#bid_lists = [[0, 1], [0, .75], [0, .5], [0, .25]]\n",
    "#alg = ExponentialWeights(0.0, len(generate_linear_discretization(0, 1, 0.25)))\n",
    "#alg_regrets, alg_payoffs = auction_simulator(alg, bid_lists, 4, 1, generate_linear_discretization(0, 1, 0.25))\n",
    "#print(alg_regrets)\n",
    "#print(alg_payoffs)\n",
    "#print(alg.weights_vector[-1])\n",
    "#print(alg.choices_by_round)\n",
    "#print(alg.totals_by_round)"
   ]
  },
  {
   "cell_type": "markdown",
   "id": "b058859a",
   "metadata": {},
   "source": [
    "## Auction Monte Carlo Trials"
   ]
  },
  {
   "cell_type": "code",
   "execution_count": 101,
   "id": "a1a04b7a",
   "metadata": {},
   "outputs": [],
   "source": [
    "## Auction Monte Carlo Trials\n",
    "def auction_trial(alg, auction_list, num_rounds, max_bid, price_discretization):\n",
    "    alg_avg_regret_per_round = None\n",
    "    alg_avg_payoff_per_round = None\n",
    "\n",
    "    for auction in auction_list:\n",
    "        # find which trial number we are on\n",
    "        n = auction_list.index(auction)\n",
    "                    \n",
    "        # run matchup and find regret lists\n",
    "        new_alg_regrets, new_alg_payoffs = auction_simulator(alg, auction, num_rounds, max_bid, price_discretization)\n",
    "        \n",
    "        # update average regrets\n",
    "        if alg_avg_regret_per_round == None:\n",
    "            alg_avg_regret_per_round = new_alg_regrets\n",
    "        else:\n",
    "            for i in range(len(alg_avg_regret_per_round)):\n",
    "                alg_avg_regret_per_round[i] = ((n * alg_avg_regret_per_round[i]) + new_alg_regrets[i]) / (n + 1) \n",
    "        \n",
    "        # update average payoffs\n",
    "        if alg_avg_payoff_per_round == None:\n",
    "            alg_avg_payoff_per_round = new_alg_payoffs\n",
    "        else:\n",
    "            for i in range(len(alg_avg_regret_per_round)):\n",
    "                alg_avg_payoff_per_round[i] = ((n * alg_avg_payoff_per_round[i]) + new_alg_payoffs[i]) / (n + 1) \n",
    "        \n",
    "        # reset alg internally stored values\n",
    "        alg.reset_instance(num_actions=len(price_discretization))\n",
    "        #print('final weights', alg.weights_vector)\n",
    "    return alg_avg_regret_per_round, alg_avg_payoff_per_round\n",
    "\n",
    "#bid_lists = [[0, 1], [0, .75], [0, .5], [0, .25]]\n",
    "#alg = ExponentialWeights(1.0, len(generate_linear_discretization(0, 1, 0.25)))\n",
    "#alg_regrets, alg_payoffs = auction_trial(alg, [bid_lists, bid_lists], 4, 1, generate_linear_discretization(0, 1, 0.25))\n",
    "#print(alg_regrets)\n",
    "#print(alg_payoffs)"
   ]
  },
  {
   "cell_type": "markdown",
   "id": "a27cc0b9",
   "metadata": {},
   "source": [
    "## Visualization of Regrets"
   ]
  },
  {
   "cell_type": "code",
   "execution_count": 102,
   "id": "bcee8aa5",
   "metadata": {},
   "outputs": [],
   "source": [
    "def visualize_rounds(alg_regrets, rounds, lr, plot_title, alg_name, trial_type, y_label):\n",
    "    \n",
    "    file_name = trial_type + '_' + alg_name + \"_\" + f'{lr}' + '.png'\n",
    "    \n",
    "    x = numpy.array(list(range(0, rounds)))\n",
    "    y_1 = numpy.array(alg_regrets)\n",
    "    plt.plot(x, y_1, label='{alg_name}, learning rate = {lr}'.format(alg_name=alg_name, lr = lr), linewidth=1)\n",
    "    plt.xlabel(\"Round\")\n",
    "    plt.ylabel(y_label)\n",
    "    plt.title(plot_title)\n",
    "    plt.legend(loc='best', prop={'size': 7})\n",
    "    \n",
    "    plt.savefig(file_name)\n",
    "\n",
    "    plt.show()\n"
   ]
  },
  {
   "cell_type": "markdown",
   "id": "210c9fde",
   "metadata": {},
   "source": [
    "# Trials on Different Bidder Generation Methods, Discretizations, Number of Bidders"
   ]
  },
  {
   "cell_type": "code",
   "execution_count": 95,
   "id": "8767fc07",
   "metadata": {
    "scrolled": true
   },
   "outputs": [
    {
     "ename": "KeyboardInterrupt",
     "evalue": "",
     "output_type": "error",
     "traceback": [
      "\u001b[1;31m---------------------------------------------------------------------------\u001b[0m",
      "\u001b[1;31mKeyboardInterrupt\u001b[0m                         Traceback (most recent call last)",
      "Input \u001b[1;32mIn [95]\u001b[0m, in \u001b[0;36m<cell line: 14>\u001b[1;34m()\u001b[0m\n\u001b[0;32m     12\u001b[0m price_discretization \u001b[38;5;241m=\u001b[39m generate_linear_discretization(\u001b[38;5;241m0\u001b[39m, \u001b[38;5;241m1\u001b[39m, \u001b[38;5;241m0.01\u001b[39m)\n\u001b[0;32m     13\u001b[0m alg \u001b[38;5;241m=\u001b[39m ExponentialWeights(\u001b[38;5;241m1.0\u001b[39m, \u001b[38;5;28mlen\u001b[39m(price_discretization))\n\u001b[1;32m---> 14\u001b[0m alg_regrets, alg_payoffs \u001b[38;5;241m=\u001b[39m \u001b[43mauction_trial\u001b[49m\u001b[43m(\u001b[49m\u001b[43malg\u001b[49m\u001b[43m,\u001b[49m\u001b[43m \u001b[49m\u001b[43mauction_list\u001b[49m\u001b[43m,\u001b[49m\u001b[43m \u001b[49m\u001b[43mNUM_ROUNDS\u001b[49m\u001b[43m,\u001b[49m\u001b[43m \u001b[49m\u001b[43mmax_payoff\u001b[49m\u001b[43m,\u001b[49m\u001b[43m \u001b[49m\u001b[43mprice_discretization\u001b[49m\u001b[43m)\u001b[49m\n\u001b[0;32m     15\u001b[0m \u001b[38;5;28mprint\u001b[39m(alg_regrets[\u001b[38;5;241m-\u001b[39m\u001b[38;5;241m1\u001b[39m])\n\u001b[0;32m     16\u001b[0m \u001b[38;5;28mprint\u001b[39m(alg_payoffs[\u001b[38;5;241m-\u001b[39m\u001b[38;5;241m1\u001b[39m])\n",
      "Input \u001b[1;32mIn [64]\u001b[0m, in \u001b[0;36mauction_trial\u001b[1;34m(alg, auction_list, num_rounds, max_bid, price_discretization)\u001b[0m\n\u001b[0;32m      8\u001b[0m n \u001b[38;5;241m=\u001b[39m auction_list\u001b[38;5;241m.\u001b[39mindex(auction)\n\u001b[0;32m     10\u001b[0m \u001b[38;5;66;03m# run matchup and find regret lists\u001b[39;00m\n\u001b[1;32m---> 11\u001b[0m new_alg_regrets, new_alg_payoffs \u001b[38;5;241m=\u001b[39m \u001b[43mauction_simulator\u001b[49m\u001b[43m(\u001b[49m\u001b[43malg\u001b[49m\u001b[43m,\u001b[49m\u001b[43m \u001b[49m\u001b[43mauction\u001b[49m\u001b[43m,\u001b[49m\u001b[43m \u001b[49m\u001b[43mnum_rounds\u001b[49m\u001b[43m,\u001b[49m\u001b[43m \u001b[49m\u001b[43mmax_bid\u001b[49m\u001b[43m,\u001b[49m\u001b[43m \u001b[49m\u001b[43mprice_discretization\u001b[49m\u001b[43m)\u001b[49m\n\u001b[0;32m     13\u001b[0m \u001b[38;5;66;03m# update average regrets\u001b[39;00m\n\u001b[0;32m     14\u001b[0m \u001b[38;5;28;01mif\u001b[39;00m alg_avg_regret_per_round \u001b[38;5;241m==\u001b[39m \u001b[38;5;28;01mNone\u001b[39;00m:\n",
      "Input \u001b[1;32mIn [94]\u001b[0m, in \u001b[0;36mauction_simulator\u001b[1;34m(alg, bid_lists, num_rounds, max_bid, price_discretization)\u001b[0m\n\u001b[0;32m     35\u001b[0m payoff_list \u001b[38;5;241m=\u001b[39m []\n\u001b[0;32m     36\u001b[0m \u001b[38;5;28;01mfor\u001b[39;00m reserve_price \u001b[38;5;129;01min\u001b[39;00m price_discretization:\n\u001b[1;32m---> 37\u001b[0m     payoff_list\u001b[38;5;241m.\u001b[39mappend(\u001b[43mfind_payoff\u001b[49m\u001b[43m(\u001b[49m\u001b[43mreserve_price\u001b[49m\u001b[43m,\u001b[49m\u001b[43m \u001b[49m\u001b[43mbid_list\u001b[49m\u001b[43m)\u001b[49m)\n\u001b[0;32m     38\u001b[0m alg_payoff \u001b[38;5;241m=\u001b[39m payoff_list[alg_action]\n\u001b[0;32m     39\u001b[0m alg\u001b[38;5;241m.\u001b[39mprocess_payoff(alg_payoff, payoff_list)\n",
      "\u001b[1;31mKeyboardInterrupt\u001b[0m: "
     ]
    }
   ],
   "source": [
    "# PARAMETERS\n",
    "NUM_TRIALS = 1000\n",
    "NUM_ROUNDS = 500\n",
    "\n",
    "# 2 bidder random values auction trial Epsilon = 1\n",
    "num_bidders = 2\n",
    "auction_list = []\n",
    "min_payoff, max_payoff = 0, 1\n",
    "# perform 500 trials each with 500 rounds and 2 bidders\n",
    "for i in range(NUM_TRIALS):\n",
    "    auction_list.append(generate_random_bidlist(num_bidders, NUM_ROUNDS))\n",
    "price_discretization = generate_linear_discretization(0, 1, 0.01)\n",
    "alg = ExponentialWeights(1.0, len(price_discretization))\n",
    "alg_regrets, alg_payoffs = auction_trial(alg, auction_list, NUM_ROUNDS, max_payoff, price_discretization)\n",
    "print(alg_regrets[-1])\n",
    "print(alg_payoffs[-1])\n",
    "print('avg 1', sum(alg_payoffs) / len(alg_payoffs))\n",
    "visualize_rounds(alg_regrets, NUM_ROUNDS, .5, \"demo\", \"EW\", \"Randomized Auction\", \"Regret per Round\")\n",
    "visualize_rounds(alg_payoffs, NUM_ROUNDS, .5, \"demo\", \"EW\", \"Randomized Auction\", \"Payoff per Round\")\n",
    "\n",
    "\n",
    "# 2 bidder random values auction trial Epsilon = 0\n",
    "num_bidders = 2\n",
    "auction_list = []\n",
    "min_payoff, max_payoff = 0, 1\n",
    "# perform 500 trials each with 500 rounds and 2 bidders\n",
    "for i in range(NUM_TRIALS):\n",
    "    auction_list.append(generate_random_bidlist(num_bidders, NUM_ROUNDS))\n",
    "price_discretization = generate_linear_discretization(0, 1, 0.01)\n",
    "alg = ExponentialWeights(0, len(price_discretization))\n",
    "alg_regrets, alg_payoffs = auction_trial(alg, auction_list, NUM_ROUNDS, max_payoff, price_discretization)\n",
    "print(alg_regrets[-1])\n",
    "print(alg_payoffs[-1])\n",
    "print('avg 2', sum(alg_payoffs) / len(alg_payoffs))\n",
    "visualize_rounds(alg_regrets, NUM_ROUNDS, 0, \"demo\", \"EW\", \"Randomized Auction\", \"Regret per Round\")\n",
    "visualize_rounds(alg_payoffs, NUM_ROUNDS, 0, \"demo\", \"EW\", \"Randomized Auction\", \"Payoff per Round\")\n"
   ]
  },
  {
   "cell_type": "markdown",
   "id": "fbde7b75",
   "metadata": {},
   "source": [
    "# Part 2"
   ]
  },
  {
   "cell_type": "markdown",
   "id": "997bd558",
   "metadata": {},
   "source": [
    "### Generating Meet Values"
   ]
  },
  {
   "cell_type": "code",
   "execution_count": null,
   "id": "4742e428",
   "metadata": {},
   "outputs": [],
   "source": []
  }
 ],
 "metadata": {
  "kernelspec": {
   "display_name": "Python 3 (ipykernel)",
   "language": "python",
   "name": "python3"
  },
  "language_info": {
   "codemirror_mode": {
    "name": "ipython",
    "version": 3
   },
   "file_extension": ".py",
   "mimetype": "text/x-python",
   "name": "python",
   "nbconvert_exporter": "python",
   "pygments_lexer": "ipython3",
   "version": "3.10.1"
  }
 },
 "nbformat": 4,
 "nbformat_minor": 5
}
