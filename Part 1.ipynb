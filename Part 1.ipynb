{
 "cells": [
  {
   "cell_type": "markdown",
   "id": "70e4d158",
   "metadata": {},
   "source": [
    "Part 1"
   ]
  },
  {
   "cell_type": "code",
   "execution_count": null,
   "id": "9a543f7d",
   "metadata": {},
   "outputs": [],
   "source": [
    "import random"
   ]
  },
  {
   "cell_type": "markdown",
   "id": "26912867",
   "metadata": {},
   "source": [
    "Generate Distribution Functions"
   ]
  },
  {
   "cell_type": "code",
   "execution_count": 10,
   "id": "08e76197",
   "metadata": {},
   "outputs": [
    {
     "name": "stdout",
     "output_type": "stream",
     "text": [
      "utility at each round: \n",
      " [[0, 0.4, 0], [0.15, 0, 0], [0, 0, 0.29]]\n",
      "totals by round: \n",
      " [[0, 0.4, 0], [0.15, 0.4, 0], [0.15, 0.4, 0.29]]\n",
      "final payoffs: \n",
      " [0.15, 0.4, 0.29]\n"
     ]
    },
    {
     "data": {
      "text/plain": [
       "([[0, 0.4, 0], [0.15, 0, 0], [0, 0, 0.29]],\n",
       " [[0, 0.4, 0], [0.15, 0.4, 0], [0.15, 0.4, 0.29]])"
      ]
     },
     "execution_count": 10,
     "metadata": {},
     "output_type": "execute_result"
    }
   ],
   "source": [
    "import random\n",
    "\n",
    "def sorted_indexes(payoffs):\n",
    "    vals_indexes=[]\n",
    "    ind_by_val = []\n",
    "\n",
    "    for i in range(len(payoffs)):\n",
    "        vals_indexes.append([payoffs[i],i])\n",
    "    \n",
    "    vals_indexes.sort(reverse=True)\n",
    "    for x in vals_indexes:\n",
    "        ind_by_val.append(x[1])\n",
    "    return ind_by_val\n",
    "\n",
    "def find_min_index(payoffs):\n",
    "    min_value = min(payoffs)\n",
    "    min_index = payoffs.index(min_value)\n",
    "    return min_index\n",
    "\n",
    "def generate_adversarial_payoffs(num_actions, num_rounds):\n",
    "    rounds_list = []\n",
    "    totals_by_round = []\n",
    "    #first_payoffs = [round(random.random(),2) for i in range(num_actions)]\n",
    "    initial_payoff = round(random.random(), 2)\n",
    "    first_payoffs = [0 for i in range(num_actions)]\n",
    "    first_payoffs[random.randrange(num_actions)] = initial_payoff\n",
    "    total_payoffs = [first_payoffs[i] for i in range(num_actions)]\n",
    "    #total_indexes = sorted_indexes(total_payoffs)\n",
    "    min_index = find_min_index(total_payoffs)\n",
    "    rounds_list.append(first_payoffs)\n",
    "    totals_by_round.append([total_payoffs[i] for i in range(num_actions)])\n",
    "    \n",
    "    for i in range(num_rounds - 1):\n",
    "        #print(\"initial total payoffs\", total_payoffs)\n",
    "        #new_payoffs = sorted([round(random.random(),2) for i in range(num_actions)])\n",
    "        new_payoff = round(random.random(), 2)\n",
    "        adversarial_payoffs = [0 for i in range(num_actions)]\n",
    "        #for i in range(num_actions):\n",
    "        #   adversarial_payoffs[total_indexes[i]] = new_payoffs[i]\n",
    "        adversarial_payoffs[min_index] = new_payoff\n",
    "        for i in range(num_actions):\n",
    "            #print(\"t\", total_payoffs[i], \"a\", adversarial_payoffs[i])\n",
    "            total_payoffs[i] += adversarial_payoffs[i]\n",
    "            total_payoffs[i] = round(total_payoffs[i], 2)\n",
    "        \n",
    "        #total_indexes = sorted_indexes(total_payoffs)\n",
    "        min_index = find_min_index(total_payoffs)\n",
    "        new_totals = [total_payoffs[i] for i in range(num_actions)]\n",
    "        totals_by_round.append(new_totals)\n",
    "        #print(new_totals)\n",
    "        rounds_list.append(adversarial_payoffs)\n",
    "\n",
    "    print(\"utility at each round: \\n\", rounds_list)\n",
    "    print(\"totals by round: \\n\", totals_by_round)\n",
    "    print(\"final payoffs: \\n\", total_payoffs)\n",
    "    return rounds_list, totals_by_round\n",
    "\n",
    "\n",
    "generate_adversarial_payoffs(3, 3)"
   ]
  },
  {
   "cell_type": "code",
   "execution_count": 8,
   "id": "e786cd79",
   "metadata": {},
   "outputs": [],
   "source": [
    "import random\n",
    "#when generating the bernoulli payoffs, generate the payoffs of each action at each round and the \n",
    "#total payoffs up to that point for each action. i.e. list of lists of payoffs/round & list of lists of aggregated payoffs.\n",
    "#uncomment the last line of the generate_adversarial_payoffs section for an example\n",
    "def find_payoff(success_chance):\n",
    "    comparison_val = random.random()\n",
    "    return int(success_chance > comparison_val)\n",
    "\n",
    "def generate_bernoulli_payoffs(num_actions, num_rounds):\n",
    "    rounds_list = []\n",
    "    totals_by_round = []\n",
    "    total_payoffs = [0 for i in range(num_actions)]\n",
    "    totals_by_round = []\n",
    "    \n",
    "    #generate probability of action success in range (0, 1/2)\n",
    "    action_success_chances = [round(random.random() / 2,2) for i in range(num_actions)]\n",
    "    print(action_success_chances)\n",
    "    \n",
    "    for i in range(num_rounds - 1):\n",
    "        #print(\"initial total payoffs\", total_payoffs)\n",
    "        new_payoffs = [find_payoff(action_success_chances[j]) for j in range(num_actions)]\n",
    "        print(new_payoffs)\n",
    "        \n",
    "        for i in range(num_actions):\n",
    "            #print(\"t\", total_payoffs[i], \"a\", adversarial_payoffs[i])\n",
    "            total_payoffs[i] += new_payoffs[i]\n",
    "            total_payoffs[i] = round(total_payoffs[i], 2)\n",
    "        \n",
    "        new_totals = [total_payoffs[i] for i in range(num_actions)]\n",
    "        totals_by_round.append(new_totals)\n",
    "        #print(new_totals)\n",
    "        rounds_list.append(new_payoffs)\n",
    "\n",
    "    #print(\"utility at each round: \\n\", rounds_list)\n",
    "    #print(\"totals by round: \\n\", totals_by_round)\n",
    "    #print(\"final payoffs: \\n\", total_payoffs)\n",
    "    return rounds_list, totals_by_round\n",
    "\n",
    "#generate_bernoulli_payoffs(3, 3)\n",
    "\n",
    "def generate_random_payoffs(num_actions, num_rounds):\n",
    "    pass"
   ]
  },
  {
   "cell_type": "markdown",
   "id": "03c9560f",
   "metadata": {},
   "source": [
    "Simulate Algorithm Behavior Functions"
   ]
  },
  {
   "cell_type": "code",
   "execution_count": 96,
   "id": "f56e3ca7",
   "metadata": {},
   "outputs": [
    {
     "name": "stdout",
     "output_type": "stream",
     "text": [
      "utility at each round: \n",
      " [[0.89, 0.03, 0.86], [0.08, 0.34, 0.18], [0.51, 0.79, 0.17], [0.2, 0.71, 0.65], [0.87, 0.25, 0.45], [0.79, 0.93, 0.91], [0.25, 0.92, 0.58], [0.65, 0.04, 0.1], [0.19, 0.21, 0.68], [0.2, 0.85, 0.16]]\n",
      "totals by round: \n",
      " [[0.89, 0.03, 0.86], [0.97, 0.37, 1.04], [1.48, 1.16, 1.21], [1.68, 1.87, 1.86], [2.55, 2.12, 2.31], [3.34, 3.05, 3.22], [3.59, 3.97, 3.8], [4.24, 4.01, 3.9], [4.43, 4.22, 4.58], [4.63, 5.07, 4.74]]\n",
      "final payoffs: \n",
      " [4.63, 5.07, 4.74]\n",
      "[1.2283031493691747, 1.0069555500567189, 1.219818639760204]\n",
      "[1.2512181394937498, 1.0892486561426122, 1.271619166385803]\n",
      "[1.4076935840339895, 1.307369247202105, 1.3225601461225394]\n",
      "[1.4742692172911012, 1.5404302223135504, 1.5368751812880124]\n",
      "[1.8025009252216604, 1.632028969976891, 1.7052697835359134]\n",
      "[2.1634493321602095, 2.023238880603845, 2.104289696401433]\n",
      "[2.2920947239400062, 2.5024362789874997, 2.4060500721642333]\n",
      "[2.663518558843832, 2.525670902383281, 2.4622888266898326]\n",
      "[2.7830496883568325, 2.6512388835730567, 2.8811937236635057]\n",
      "EW alg payoff 4.700000000000001\n",
      "OPT payoff 5.07\n"
     ]
    }
   ],
   "source": [
    "def simulate_random_guessing(rounds_list, totals_by_round):\n",
    "    return simulate_exponential_weights(rounds_list, totals_by_round, 0)\n",
    "\n",
    "\n",
    "def simulate_follow_leader(round, inputs):\n",
    "    #may need to implement this manually.\n",
    "    return simulate_exponential_weights(rounds_list, totals_by_round, 100000)\n",
    "\n",
    "def simulate_exponential_weights(rounds_list, totals_by_round, epsilon):\n",
    "    num_rounds = len(rounds_list)\n",
    "    num_actions = len(rounds_list[0])\n",
    "    choices_made = []\n",
    "    action_weights = []\n",
    "    action_probabilities = [(1/num_actions) for i in range(num_actions)]\n",
    "    current_weights = [1 for i in range(num_actions)]\n",
    "    action_weights.append(current_weights)\n",
    "    alg_payoffs = []\n",
    "    opt_payoffs = []\n",
    "    \n",
    "    for round in range(1, num_rounds):\n",
    "        last_round = round - 1\n",
    "        current_weights = [None for i in range(num_actions)]\n",
    "        for action in range(num_actions):\n",
    "            V_last = totals_by_round[last_round][action]\n",
    "            exp = V_last / num_actions\n",
    "            current_weights[action] = pow(1 + epsilon, exp)\n",
    "        #randomly select from actions using weights as probabilities\n",
    "        selected_payoff = random.choices(rounds_list[round], weights=current_weights, k=1)[0]\n",
    "        print(current_weights)\n",
    "        alg_payoffs.append(selected_payoff)  \n",
    "        opt_payoffs.append(max(rounds_list[round]))\n",
    "        action_weights.append(current_weights)\n",
    "        \n",
    "    print(\"EW alg payoff\", sum(alg_payoffs))\n",
    "    print(\"OPT payoff\", max(totals_by_round[-1]))\n",
    "    return\n",
    "\n",
    "rounds_list_1, payoff_totals_1 = generate_adversarial_payoffs(3, 10)\n",
    "epsilon_1 = 1\n",
    "simulate_exponential_weights(rounds_list_1, payoff_totals_1, epsilon_1)\n",
    "\n",
    "\n"
   ]
  },
  {
   "cell_type": "markdown",
   "id": "b382165f",
   "metadata": {},
   "source": [
    "Monte Carlo Trials\n",
    "\n",
    "- Declare size of inputs\n",
    "- Generate payoffs\n",
    "- For each learning rate $\\{\\epsilon_1, . . ., \\epsilon_n\\}$\n",
    "    - For each input\n",
    "        - Simulate the algorithm\n",
    "        - calculate OPT (best in hindsight payoff)\n",
    "        - calculate the algorithm's regret\n",
    "    - Calculate the average regret for this learning rate $\\epsilon$"
   ]
  },
  {
   "cell_type": "code",
   "execution_count": 8,
   "id": "840628cb",
   "metadata": {},
   "outputs": [],
   "source": [
    "rounds = 100\n",
    "n = 5"
   ]
  },
  {
   "cell_type": "code",
   "execution_count": null,
   "id": "3a62bc9d",
   "metadata": {},
   "outputs": [],
   "source": []
  },
  {
   "cell_type": "code",
   "execution_count": null,
   "id": "40485027",
   "metadata": {},
   "outputs": [],
   "source": []
  }
 ],
 "metadata": {
  "kernelspec": {
   "display_name": "Python 3 (ipykernel)",
   "language": "python",
   "name": "python3"
  },
  "language_info": {
   "codemirror_mode": {
    "name": "ipython",
    "version": 3
   },
   "file_extension": ".py",
   "mimetype": "text/x-python",
   "name": "python",
   "nbconvert_exporter": "python",
   "pygments_lexer": "ipython3",
   "version": "3.10.1"
  }
 },
 "nbformat": 4,
 "nbformat_minor": 5
}
