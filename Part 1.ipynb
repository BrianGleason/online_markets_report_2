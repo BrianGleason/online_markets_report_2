{
 "cells": [
  {
   "cell_type": "markdown",
   "id": "70e4d158",
   "metadata": {},
   "source": [
    "Part 1"
   ]
  },
  {
   "cell_type": "code",
   "execution_count": null,
   "id": "9a543f7d",
   "metadata": {},
   "outputs": [],
   "source": [
    "import random"
   ]
  },
  {
   "cell_type": "markdown",
   "id": "26912867",
   "metadata": {},
   "source": [
    "Generate Distribution Functions"
   ]
  },
  {
   "cell_type": "code",
   "execution_count": 78,
   "id": "08e76197",
   "metadata": {},
   "outputs": [],
   "source": [
    "import random\n",
    "\n",
    "def sorted_indexes(payoffs):\n",
    "    vals_indexes=[]\n",
    "    ind_by_val = []\n",
    "\n",
    "    for i in range(len(payoffs)):\n",
    "        vals_indexes.append([payoffs[i],i])\n",
    "    \n",
    "    vals_indexes.sort(reverse=True)\n",
    "    for x in vals_indexes:\n",
    "        ind_by_val.append(x[1])\n",
    "    return ind_by_val\n",
    "\n",
    "def generate_adversarial_payoffs(num_actions, num_rounds):\n",
    "    rounds_list = []\n",
    "    totals_by_round = []\n",
    "    first_payoffs = [round(random.random(),2) for i in range(num_actions)]\n",
    "    total_payoffs = [first_payoffs[i] for i in range(num_actions)]\n",
    "    total_indexes = sorted_indexes(total_payoffs)\n",
    "    rounds_list.append(first_payoffs)\n",
    "    totals_by_round.append([total_payoffs[i] for i in range(num_actions)])\n",
    "    #print(total_indexes)\n",
    "    #print(total_payoffs)\n",
    "    \n",
    "    for i in range(num_rounds - 1):\n",
    "        #print(\"initial total payoffs\", total_payoffs)\n",
    "        new_payoffs = sorted([round(random.random(),2) for i in range(num_actions)])\n",
    "        adversarial_payoffs = [0 for i in range(num_actions)]\n",
    "        for i in range(num_actions):\n",
    "            adversarial_payoffs[total_indexes[i]] = new_payoffs[i]\n",
    "        \n",
    "        for i in range(num_actions):\n",
    "            #print(\"t\", total_payoffs[i], \"a\", adversarial_payoffs[i])\n",
    "            total_payoffs[i] += adversarial_payoffs[i]\n",
    "            total_payoffs[i] = round(total_payoffs[i], 2)\n",
    "        \n",
    "        total_indexes = sorted_indexes(total_payoffs)\n",
    "        new_totals = [total_payoffs[i] for i in range(num_actions)]\n",
    "        totals_by_round.append(new_totals)\n",
    "        #print(new_totals)\n",
    "        rounds_list.append(adversarial_payoffs)\n",
    "\n",
    "    #print(\"utility at each round: \\n\", rounds_list)\n",
    "    #print(\"totals by round: \\n\", totals_by_round)\n",
    "    #print(\"final payoffs: \\n\", total_payoffs)\n",
    "    return rounds_list, totals_by_round\n",
    "\n",
    "\n",
    "#generate_adversarial_payoffs(5, 5)"
   ]
  },
  {
   "cell_type": "code",
   "execution_count": 73,
   "id": "6502b7da",
   "metadata": {},
   "outputs": [],
   "source": [
    "#when generating the bernoulli payoffs, generate the payoffs of each action at each round and the \n",
    "#total payoffs up to that point for each action. i.e. list of lists of payoffs/round & list of lists of aggregated payoffs.\n",
    "#uncomment the last line of the generate_adversarial_payoffs section for an example\n",
    "def generate_bernoulli_payoffs(num_actions, num_rounds):\n",
    "    pass\n",
    "\n",
    "def generate_random_payoffs(num_actions, num_rounds):\n",
    "    pass"
   ]
  },
  {
   "cell_type": "markdown",
   "id": "03c9560f",
   "metadata": {},
   "source": [
    "Simulate Algorithm Behavior Functions"
   ]
  },
  {
   "cell_type": "code",
   "execution_count": 95,
   "id": "f56e3ca7",
   "metadata": {},
   "outputs": [
    {
     "name": "stdout",
     "output_type": "stream",
     "text": [
      "utility at each round: \n",
      " [[0.81, 0.9, 0.35], [0.17, 0.11, 0.45], [0.1, 0.09, 0.52], [0.73, 0.61, 0.16], [0.05, 0.3, 0.69], [0.99, 0.78, 0.6], [0.25, 0.73, 0.84], [0.91, 0.56, 0.06], [0.37, 0.07, 0.53], [0.32, 0.94, 0.72]]\n",
      "totals by round: \n",
      " [[0.81, 0.9, 0.35], [0.98, 1.01, 0.8], [1.08, 1.1, 1.32], [1.81, 1.71, 1.48], [1.86, 2.01, 2.17], [2.85, 2.79, 2.77], [3.1, 3.52, 3.61], [4.01, 4.08, 3.67], [4.38, 4.15, 4.2], [4.7, 5.09, 4.92]]\n",
      "final payoffs: \n",
      " [4.7, 5.09, 4.92]\n",
      "EW alg payoff 4.35\n",
      "OPT payoff 5.09\n"
     ]
    }
   ],
   "source": [
    "def simulate_random_guessing(round, inputs):\n",
    "    #epsilon = 0\n",
    "    pass\n",
    "\n",
    "def simulate_exponential_weights(rounds_list, totals_by_round, epsilon):\n",
    "    num_rounds = len(rounds_list)\n",
    "    num_actions = len(rounds_list[0])\n",
    "    choices_made = []\n",
    "    action_weights = []\n",
    "    action_probabilities = [(1/num_actions) for i in range(num_actions)]\n",
    "    current_weights = [1 for i in range(num_actions)]\n",
    "    action_weights.append(current_weights)\n",
    "    alg_payoffs = []\n",
    "    opt_payoffs = []\n",
    "    \n",
    "    for round in range(1, num_rounds):\n",
    "        last_round = round - 1\n",
    "        current_weights = [None for i in range(num_actions)]\n",
    "        for action in range(num_actions):\n",
    "            V_last = totals_by_round[last_round][action]\n",
    "            exp = V_last / num_actions\n",
    "            current_weights[action] = pow(1 + epsilon, exp)\n",
    "        #randomly select from actions using weights as probabilities\n",
    "        selected_payoff = random.choices(rounds_list[round], weights=current_weights, k=1)[0]\n",
    "        alg_payoffs.append(selected_payoff)  \n",
    "        opt_payoffs.append(max(rounds_list[round]))\n",
    "        action_weights.append(current_weights)\n",
    "        \n",
    "    print(\"EW alg payoff\", sum(alg_payoffs))\n",
    "    print(\"OPT payoff\", max(totals_by_round[-1]))\n",
    "    return\n",
    "\n",
    "rounds_list_1, payoff_totals_1 = generate_adversarial_payoffs(3, 10)\n",
    "epsilon_1 = 1\n",
    "simulate_exponential_weights(rounds_list_1, payoff_totals_1, epsilon_1)\n",
    "\n",
    "def simulate_follow_leader(round, inputs):\n",
    "    #epsilon = inf or implemented manually\n",
    "    pass\n",
    "\n",
    "def calculate_opt(round, inputs):\n",
    "    pass\n"
   ]
  },
  {
   "cell_type": "markdown",
   "id": "b382165f",
   "metadata": {},
   "source": [
    "Monte Carlo Trials\n",
    "\n",
    "- Declare size of inputs\n",
    "- Generate payoffs\n",
    "- For each learning rate $\\{\\epsilon_1, . . ., \\epsilon_n\\}$\n",
    "    - For each input\n",
    "        - Simulate the algorithm\n",
    "        - calculate OPT (best in hindsight payoff)\n",
    "        - calculate the algorithm's regret\n",
    "    - Calculate the average regret for this learning rate $\\epsilon$"
   ]
  },
  {
   "cell_type": "code",
   "execution_count": 8,
   "id": "840628cb",
   "metadata": {},
   "outputs": [],
   "source": [
    "rounds = 100\n",
    "n = 5"
   ]
  },
  {
   "cell_type": "code",
   "execution_count": null,
   "id": "3a62bc9d",
   "metadata": {},
   "outputs": [],
   "source": []
  },
  {
   "cell_type": "code",
   "execution_count": null,
   "id": "40485027",
   "metadata": {},
   "outputs": [],
   "source": []
  }
 ],
 "metadata": {
  "kernelspec": {
   "display_name": "Python 3 (ipykernel)",
   "language": "python",
   "name": "python3"
  },
  "language_info": {
   "codemirror_mode": {
    "name": "ipython",
    "version": 3
   },
   "file_extension": ".py",
   "mimetype": "text/x-python",
   "name": "python",
   "nbconvert_exporter": "python",
   "pygments_lexer": "ipython3",
   "version": "3.10.1"
  }
 },
 "nbformat": 4,
 "nbformat_minor": 5
}
