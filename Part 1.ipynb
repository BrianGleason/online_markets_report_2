{
 "cells": [
  {
   "cell_type": "markdown",
   "id": "5f995a40",
   "metadata": {},
   "source": [
    "Part 1"
   ]
  },
  {
   "cell_type": "code",
   "execution_count": 3,
   "id": "c402272a",
   "metadata": {},
   "outputs": [],
   "source": [
    "def simulate_random_guessing(n, payoffs):\n",
    "    pass\n",
    "\n",
    "def simulate_exponential_weights(n, payoffs):\n",
    "    pass\n",
    "\n",
    "def simulate_follow_the_leader(n, payoffs):\n",
    "    pass"
   ]
  },
  {
   "cell_type": "markdown",
   "id": "b6711318",
   "metadata": {},
   "source": [
    "Monte Carlo Trials\n",
    "\n",
    "- Declare size of inputs\n",
    "- Generate payoffs\n",
    "- For each learning rate\n",
    "    - For each input\n",
    "        - Simulate the algorithm\n",
    "        - calculate OPT (best in hindsight payoff)\n",
    "        - calculate the algorithm's regret"
   ]
  },
  {
   "cell_type": "code",
   "execution_count": 4,
   "id": "408ec083",
   "metadata": {},
   "outputs": [],
   "source": [
    "n = 100"
   ]
  },
  {
   "cell_type": "code",
   "execution_count": null,
   "id": "5d98a3cd",
   "metadata": {},
   "outputs": [],
   "source": []
  }
 ],
 "metadata": {
  "kernelspec": {
   "display_name": "Python 3 (ipykernel)",
   "language": "python",
   "name": "python3"
  },
  "language_info": {
   "codemirror_mode": {
    "name": "ipython",
    "version": 3
   },
   "file_extension": ".py",
   "mimetype": "text/x-python",
   "name": "python",
   "nbconvert_exporter": "python",
   "pygments_lexer": "ipython3",
   "version": "3.10.1"
  }
 },
 "nbformat": 4,
 "nbformat_minor": 5
}
