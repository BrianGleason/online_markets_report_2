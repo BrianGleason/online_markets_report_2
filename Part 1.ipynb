{
 "cells": [
  {
   "cell_type": "markdown",
   "id": "70e4d158",
   "metadata": {},
   "source": [
    "Part 1"
   ]
  },
  {
   "cell_type": "code",
   "execution_count": null,
   "id": "9a543f7d",
   "metadata": {},
   "outputs": [],
   "source": [
    "import random"
   ]
  },
  {
   "cell_type": "markdown",
   "id": "26912867",
   "metadata": {},
   "source": [
    "Generate Distribution Functions"
   ]
  },
  {
   "cell_type": "code",
   "execution_count": 71,
   "id": "08e76197",
   "metadata": {},
   "outputs": [
    {
     "name": "stdout",
     "output_type": "stream",
     "text": [
      "utility at each round: \n",
      " [[0.37, 0.18, 0.63, 0.02, 0.38], [0.74, 0.75, 0.56, 0.92, 0.57], [0.15, 0.91, 0.01, 0.87, 0.38], [0.52, 0.01, 0.84, 0.24, 0.46], [0.93, 0.72, 0.63, 0.44, 0.89], [0.16, 0.74, 0.34, 0.79, 0.34]]\n",
      "totals by round: \n",
      " [[0.37, 0.18, 0.63, 0.02, 0.38], [1.11, 0.93, 1.19, 0.94, 0.95], [1.26, 1.84, 1.2, 1.81, 1.33], [1.78, 1.85, 2.04, 2.05, 1.79], [2.71, 2.57, 2.67, 2.49, 2.68], [2.87, 3.31, 3.01, 3.28, 3.02]]\n",
      "final payoffs: \n",
      " [2.87, 3.31, 3.01, 3.28, 3.02]\n"
     ]
    }
   ],
   "source": [
    "import random\n",
    "\n",
    "def sorted_indexes(payoffs):\n",
    "    vals_indexes=[]\n",
    "    ind_by_val = []\n",
    "\n",
    "    for i in range(len(payoffs)):\n",
    "        vals_indexes.append([payoffs[i],i])\n",
    "    \n",
    "    vals_indexes.sort(reverse=True)\n",
    "    for x in vals_indexes:\n",
    "        ind_by_val.append(x[1])\n",
    "    return ind_by_val\n",
    "\n",
    "def generate_adversarial_payoffs(num_actions, num_rounds):\n",
    "    rounds_list = []\n",
    "    totals_by_round = []\n",
    "    first_payoffs = [round(random.random(),2) for i in range(num_actions)]\n",
    "    total_payoffs = [first_payoffs[i] for i in range(num_actions)]\n",
    "    total_indexes = sorted_indexes(total_payoffs)\n",
    "    rounds_list.append(first_payoffs)\n",
    "    totals_by_round.append([total_payoffs[i] for i in range(num_actions)])\n",
    "    #print(total_indexes)\n",
    "    #print(total_payoffs)\n",
    "    \n",
    "    for i in range(num_rounds):\n",
    "        #print(\"initial total payoffs\", total_payoffs)\n",
    "        new_payoffs = sorted([round(random.random(),2) for i in range(num_actions)])\n",
    "        adversarial_payoffs = [0 for i in range(num_actions)]\n",
    "        for i in range(num_actions):\n",
    "            adversarial_payoffs[total_indexes[i]] = new_payoffs[i]\n",
    "        \n",
    "        for i in range(num_actions):\n",
    "            #print(\"t\", total_payoffs[i], \"a\", adversarial_payoffs[i])\n",
    "            total_payoffs[i] += adversarial_payoffs[i]\n",
    "            total_payoffs[i] = round(total_payoffs[i], 2)\n",
    "        \n",
    "        total_indexes = sorted_indexes(total_payoffs)\n",
    "        new_totals = [total_payoffs[i] for i in range(num_actions)]\n",
    "        totals_by_round.append(new_totals)\n",
    "        #print(new_totals)\n",
    "        rounds_list.append(adversarial_payoffs)\n",
    "    \n",
    "    print(\"utility at each round: \\n\", rounds_list)\n",
    "    print(\"totals by round: \\n\", totals_by_round)\n",
    "    print(\"final payoffs: \\n\", total_payoffs)\n",
    "    return(rounds_list)\n",
    "\n",
    "\n",
    "generate_adversarial_payoffs(5, 5)"
   ]
  },
  {
   "cell_type": "code",
   "execution_count": null,
   "id": "15db81a0",
   "metadata": {},
   "outputs": [],
   "source": [
    "def generate_bernoulli_payoffs(num_actions):\n",
    "    pass\n",
    "\n",
    "def generate_random_payoffs(num_actions):\n",
    "    pass"
   ]
  },
  {
   "cell_type": "markdown",
   "id": "03c9560f",
   "metadata": {},
   "source": [
    "Simulate Algorithm Behavior Functions"
   ]
  },
  {
   "cell_type": "code",
   "execution_count": 33,
   "id": "f56e3ca7",
   "metadata": {},
   "outputs": [],
   "source": [
    "def simulate_random_guessing_round(round, inputs):\n",
    "    #epsilon = 0\n",
    "    pass\n",
    "\n",
    "def simulate_exponential_weights_round(round, inputs, epsilon):\n",
    "    #test different epsilons\n",
    "    pass\n",
    "\n",
    "def simulate_follow_leader_round(round, inputs):\n",
    "    #epsilon = inf or implemented manually\n",
    "    pass\n",
    "\n",
    "def calculate_opt(round, inputs):\n",
    "    pass\n"
   ]
  },
  {
   "cell_type": "markdown",
   "id": "b382165f",
   "metadata": {},
   "source": [
    "Monte Carlo Trials\n",
    "\n",
    "- Declare size of inputs\n",
    "- Generate payoffs\n",
    "- For each learning rate $\\{\\epsilon_1, . . ., \\epsilon_n\\}$\n",
    "    - For each input\n",
    "        - Simulate the algorithm\n",
    "        - calculate OPT (best in hindsight payoff)\n",
    "        - calculate the algorithm's regret\n",
    "    - Calculate the average regret for this learning rate $\\epsilon$"
   ]
  },
  {
   "cell_type": "code",
   "execution_count": 8,
   "id": "840628cb",
   "metadata": {},
   "outputs": [],
   "source": [
    "rounds = 100\n",
    "n = 5"
   ]
  },
  {
   "cell_type": "code",
   "execution_count": null,
   "id": "3a62bc9d",
   "metadata": {},
   "outputs": [],
   "source": []
  },
  {
   "cell_type": "code",
   "execution_count": null,
   "id": "40485027",
   "metadata": {},
   "outputs": [],
   "source": []
  }
 ],
 "metadata": {
  "kernelspec": {
   "display_name": "Python 3 (ipykernel)",
   "language": "python",
   "name": "python3"
  },
  "language_info": {
   "codemirror_mode": {
    "name": "ipython",
    "version": 3
   },
   "file_extension": ".py",
   "mimetype": "text/x-python",
   "name": "python",
   "nbconvert_exporter": "python",
   "pygments_lexer": "ipython3",
   "version": "3.10.1"
  }
 },
 "nbformat": 4,
 "nbformat_minor": 5
}
