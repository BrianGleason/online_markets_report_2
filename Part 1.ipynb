{
 "cells": [
  {
   "cell_type": "markdown",
   "id": "99529c30",
   "metadata": {},
   "source": [
    "Part 1"
   ]
  },
  {
   "cell_type": "markdown",
   "id": "2bc4a998",
   "metadata": {},
   "source": [
    "Generate Distribution Functions"
   ]
  },
  {
   "cell_type": "code",
   "execution_count": 5,
   "id": "40fb1644",
   "metadata": {},
   "outputs": [],
   "source": [
    "def generate_adversarial_payoffs(num_actions):\n",
    "    pass\n",
    "\n",
    "def generate_bernoulli_payoffs(num_actions):\n",
    "    pass\n",
    "\n",
    "def generate_random_payoffs(num_actions):\n",
    "    pass"
   ]
  },
  {
   "cell_type": "markdown",
   "id": "c4bdb88e",
   "metadata": {},
   "source": [
    "Simulate Algorithm Behavior Functions"
   ]
  },
  {
   "cell_type": "code",
   "execution_count": 3,
   "id": "54accdd1",
   "metadata": {},
   "outputs": [],
   "source": [
    "def simulate_random_guessing_round(round, inputs):\n",
    "    #epsilon = 0\n",
    "    pass\n",
    "\n",
    "def simulate_exponential_weights_round(round, inputs, epsilon):\n",
    "    #test different epsilons\n",
    "    pass\n",
    "\n",
    "def simulate_follow_leader_round(round, inputs):\n",
    "    #epsilon = inf or implemented manually\n",
    "    pass\n",
    "\n",
    "def calculate_opt(round, inputs):\n",
    "    pass\n"
   ]
  },
  {
   "cell_type": "markdown",
   "id": "f5c1f244",
   "metadata": {},
   "source": [
    "Monte Carlo Trials\n",
    "\n",
    "- Declare size of inputs\n",
    "- Generate payoffs\n",
    "- For each learning rate $\\{\\epsilon_1, . . ., \\epsilon_n\\}$\n",
    "    - For each input\n",
    "        - Simulate the algorithm\n",
    "        - calculate OPT (best in hindsight payoff)\n",
    "        - calculate the algorithm's regret\n",
    "    - Calculate the average regret for this learning rate $\\epsilon$"
   ]
  },
  {
   "cell_type": "code",
   "execution_count": 4,
   "id": "917e60d9",
   "metadata": {},
   "outputs": [],
   "source": [
    "rounds = 100"
   ]
  },
  {
   "cell_type": "code",
   "execution_count": null,
   "id": "8f792eaf",
   "metadata": {},
   "outputs": [],
   "source": []
  }
 ],
 "metadata": {
  "kernelspec": {
   "display_name": "Python 3 (ipykernel)",
   "language": "python",
   "name": "python3"
  },
  "language_info": {
   "codemirror_mode": {
    "name": "ipython",
    "version": 3
   },
   "file_extension": ".py",
   "mimetype": "text/x-python",
   "name": "python",
   "nbconvert_exporter": "python",
   "pygments_lexer": "ipython3",
   "version": "3.10.1"
  }
 },
 "nbformat": 4,
 "nbformat_minor": 5
}
