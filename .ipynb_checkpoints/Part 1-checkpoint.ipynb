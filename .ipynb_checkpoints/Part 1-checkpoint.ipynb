{
 "cells": [
  {
   "cell_type": "markdown",
   "id": "70e4d158",
   "metadata": {},
   "source": [
    "Part 1"
   ]
  },
  {
   "cell_type": "code",
   "execution_count": 36,
   "id": "9a543f7d",
   "metadata": {},
   "outputs": [],
   "source": [
    "import random\n",
    "import numpy as np"
   ]
  },
  {
   "cell_type": "markdown",
   "id": "26912867",
   "metadata": {},
   "source": [
    "Generate Distribution Functions"
   ]
  },
  {
   "cell_type": "code",
   "execution_count": 37,
   "id": "08e76197",
   "metadata": {},
   "outputs": [
    {
     "data": {
      "text/plain": [
       "([[0.62, 0.11, 0.48, 0.32, 0.45],\n",
       "  [0.16, 0.94, 0.56, 0.66, 0.57],\n",
       "  [0.78, 0.24, 0.46, 0.53, 0.47],\n",
       "  [0.01, 0.96, 0.64, 0.26, 0.82],\n",
       "  [0.97, 0.13, 0.65, 0.77, 0.01]],\n",
       " [[0.62, 0.11, 0.48, 0.32, 0.45],\n",
       "  [0.78, 1.05, 1.04, 0.98, 1.02],\n",
       "  [1.56, 1.29, 1.5, 1.51, 1.49],\n",
       "  [1.57, 2.25, 2.14, 1.77, 2.31],\n",
       "  [2.54, 2.38, 2.79, 2.54, 2.32]])"
      ]
     },
     "execution_count": 37,
     "metadata": {},
     "output_type": "execute_result"
    }
   ],
   "source": [
    "import random\n",
    "\n",
    "def sorted_indexes(payoffs):\n",
    "    vals_indexes=[]\n",
    "    ind_by_val = []\n",
    "\n",
    "    for i in range(len(payoffs)):\n",
    "        vals_indexes.append([payoffs[i],i])\n",
    "    \n",
    "    vals_indexes.sort(reverse=True)\n",
    "    for x in vals_indexes:\n",
    "        ind_by_val.append(x[1])\n",
    "    return ind_by_val\n",
    "\n",
    "def generate_adversarial_payoffs(num_actions, num_rounds):\n",
    "    rounds_list = []\n",
    "    totals_by_round = []\n",
    "    first_payoffs = [round(random.random(),2) for i in range(num_actions)]\n",
    "    total_payoffs = [first_payoffs[i] for i in range(num_actions)]\n",
    "    total_indexes = sorted_indexes(total_payoffs)\n",
    "    rounds_list.append(first_payoffs)\n",
    "    totals_by_round.append([total_payoffs[i] for i in range(num_actions)])\n",
    "    #print(total_indexes)\n",
    "    #print(total_payoffs)\n",
    "    \n",
    "    for i in range(num_rounds - 1):\n",
    "        #print(\"initial total payoffs\", total_payoffs)\n",
    "        new_payoffs = sorted([round(random.random(),2) for i in range(num_actions)])\n",
    "        adversarial_payoffs = [0 for i in range(num_actions)]\n",
    "        for i in range(num_actions):\n",
    "            adversarial_payoffs[total_indexes[i]] = new_payoffs[i]\n",
    "        \n",
    "        for i in range(num_actions):\n",
    "            #print(\"t\", total_payoffs[i], \"a\", adversarial_payoffs[i])\n",
    "            total_payoffs[i] += adversarial_payoffs[i]\n",
    "            total_payoffs[i] = round(total_payoffs[i], 2)\n",
    "        \n",
    "        total_indexes = sorted_indexes(total_payoffs)\n",
    "        new_totals = [total_payoffs[i] for i in range(num_actions)]\n",
    "        totals_by_round.append(new_totals)\n",
    "        #print(new_totals)\n",
    "        rounds_list.append(adversarial_payoffs)\n",
    "\n",
    "    #print(\"utility at each round: \\n\", rounds_list)\n",
    "    #print(\"totals by round: \\n\", totals_by_round)\n",
    "    #print(\"final payoffs: \\n\", total_payoffs)\n",
    "    return rounds_list, totals_by_round\n",
    "\n",
    "\n",
    "#testing adversarial payoff function\n",
    "generate_adversarial_payoffs(5, 5)"
   ]
  },
  {
   "cell_type": "code",
   "execution_count": 61,
   "id": "e786cd79",
   "metadata": {},
   "outputs": [
    {
     "ename": "TypeError",
     "evalue": "_append_dispatcher() missing 1 required positional argument: 'values'",
     "output_type": "error",
     "traceback": [
      "\u001b[1;31m---------------------------------------------------------------------------\u001b[0m",
      "\u001b[1;31mTypeError\u001b[0m                                 Traceback (most recent call last)",
      "\u001b[1;32m~\\AppData\\Local\\Temp/ipykernel_20076/874271453.py\u001b[0m in \u001b[0;36m<module>\u001b[1;34m\u001b[0m\n\u001b[0;32m     19\u001b[0m     \u001b[1;32mpass\u001b[0m\u001b[1;33m\u001b[0m\u001b[1;33m\u001b[0m\u001b[0m\n\u001b[0;32m     20\u001b[0m \u001b[1;33m\u001b[0m\u001b[0m\n\u001b[1;32m---> 21\u001b[1;33m \u001b[0mgenerate_bernoulli_payoffs\u001b[0m\u001b[1;33m(\u001b[0m\u001b[1;36m5\u001b[0m\u001b[1;33m,\u001b[0m \u001b[1;36m5\u001b[0m\u001b[1;33m)\u001b[0m\u001b[1;33m\u001b[0m\u001b[1;33m\u001b[0m\u001b[0m\n\u001b[0m",
      "\u001b[1;32m~\\AppData\\Local\\Temp/ipykernel_20076/874271453.py\u001b[0m in \u001b[0;36mgenerate_bernoulli_payoffs\u001b[1;34m(num_actions, num_rounds)\u001b[0m\n\u001b[0;32m      9\u001b[0m     \u001b[1;32mfor\u001b[0m \u001b[0mi\u001b[0m \u001b[1;32min\u001b[0m \u001b[0mrange\u001b[0m\u001b[1;33m(\u001b[0m\u001b[1;36m0\u001b[0m\u001b[1;33m,\u001b[0m\u001b[0mnum_actions\u001b[0m\u001b[1;33m)\u001b[0m\u001b[1;33m:\u001b[0m\u001b[1;33m\u001b[0m\u001b[1;33m\u001b[0m\u001b[0m\n\u001b[0;32m     10\u001b[0m         \u001b[1;32mif\u001b[0m \u001b[0mround\u001b[0m\u001b[1;33m(\u001b[0m\u001b[0mnp\u001b[0m\u001b[1;33m.\u001b[0m\u001b[0mrandom\u001b[0m\u001b[1;33m.\u001b[0m\u001b[0mrand\u001b[0m\u001b[1;33m(\u001b[0m\u001b[1;33m)\u001b[0m\u001b[1;33m,\u001b[0m \u001b[1;36m2\u001b[0m\u001b[1;33m)\u001b[0m \u001b[1;33m<=\u001b[0m \u001b[0maction_prob\u001b[0m\u001b[1;33m[\u001b[0m\u001b[0mi\u001b[0m\u001b[1;33m]\u001b[0m\u001b[1;33m:\u001b[0m\u001b[1;33m\u001b[0m\u001b[1;33m\u001b[0m\u001b[0m\n\u001b[1;32m---> 11\u001b[1;33m             \u001b[0mfirst_payoffs\u001b[0m \u001b[1;33m=\u001b[0m \u001b[0mnp\u001b[0m\u001b[1;33m.\u001b[0m\u001b[0mappend\u001b[0m\u001b[1;33m(\u001b[0m\u001b[1;36m1\u001b[0m\u001b[1;33m)\u001b[0m\u001b[1;33m\u001b[0m\u001b[1;33m\u001b[0m\u001b[0m\n\u001b[0m\u001b[0;32m     12\u001b[0m         \u001b[1;32melse\u001b[0m\u001b[1;33m:\u001b[0m\u001b[1;33m\u001b[0m\u001b[1;33m\u001b[0m\u001b[0m\n\u001b[0;32m     13\u001b[0m             \u001b[0mfirst_payoffs\u001b[0m \u001b[1;33m=\u001b[0m \u001b[0mfirst_payoffs\u001b[0m\u001b[1;33m.\u001b[0m\u001b[0mappend\u001b[0m\u001b[1;33m(\u001b[0m\u001b[1;36m0\u001b[0m\u001b[1;33m)\u001b[0m\u001b[1;33m\u001b[0m\u001b[1;33m\u001b[0m\u001b[0m\n",
      "\u001b[1;32m<__array_function__ internals>\u001b[0m in \u001b[0;36mappend\u001b[1;34m(*args, **kwargs)\u001b[0m\n",
      "\u001b[1;31mTypeError\u001b[0m: _append_dispatcher() missing 1 required positional argument: 'values'"
     ]
    }
   ],
   "source": [
    "#when generating the bernoulli payoffs, generate the payoffs of each action at each round and the \n",
    "#total payoffs up to that point for each action. i.e. list of lists of payoffs/round & list of lists of aggregated payoffs.\n",
    "#uncomment the last line of the generate_adversarial_payoffs section for an example\n",
    "def generate_bernoulli_payoffs(num_actions, num_rounds):\n",
    "    rounds_list = []\n",
    "    totals_by_round = []\n",
    "    action_prob = [round(random.uniform(0, 0.5),2) for i in range(num_actions)]\n",
    "    first_payoffs = []\n",
    "    for i in range(0,num_actions):\n",
    "        if round(np.random.rand(), 2) <= action_prob[i]:\n",
    "            first_payoffs = first_payoffs.append(1)\n",
    "        else:\n",
    "            first_payoffs = first_payoffs.append(0)\n",
    "            \n",
    "    total_payoffs = [first_payoffs[i] for i in range(num_actions)]\n",
    "    return first_payoffs, action_prob\n",
    "\n",
    "def generate_random_payoffs(num_actions, num_rounds):\n",
    "    pass\n",
    "\n",
    "generate_bernoulli_payoffs(5, 5)"
   ]
  },
  {
   "cell_type": "markdown",
   "id": "03c9560f",
   "metadata": {},
   "source": [
    "Simulate Algorithm Behavior Functions"
   ]
  },
  {
   "cell_type": "code",
   "execution_count": 4,
   "id": "f56e3ca7",
   "metadata": {},
   "outputs": [
    {
     "name": "stdout",
     "output_type": "stream",
     "text": [
      "[1.016304932168189, 1.1674278037569719, 1.23399224962407]\n",
      "[1.23399224962407, 1.3286858140965117, 1.3787236689857776]\n",
      "[1.5052467474110671, 1.5439934867243357, 1.4573357910669438]\n",
      "[1.5368751812880124, 1.5655468325982007, 1.681792830507429]\n",
      "[1.8790454984280236, 1.8361280399304394, 1.689582347310048]\n",
      "[1.9724654089867184, 2.0092633488041076, 1.9543199368684918]\n",
      "[2.1435469250725863, 2.0753193183194947, 2.3619853228590606]\n",
      "[2.3187275817511788, 2.3402565064122283, 2.4171941126935357]\n",
      "[2.8612918648705166, 2.8878583910449924, 2.8024073297745344]\n",
      "EW alg payoff 4.08\n",
      "OPT payoff 5.34\n"
     ]
    }
   ],
   "source": [
    "def simulate_random_guessing(rounds_list, totals_by_round):\n",
    "    return simulate_exponential_weights(rounds_list, totals_by_round, 0)\n",
    "\n",
    "\n",
    "def simulate_follow_leader(round, inputs):\n",
    "    #may need to implement this manually.\n",
    "    return simulate_exponential_weights(rounds_list, totals_by_round, 100000)\n",
    "\n",
    "def simulate_exponential_weights(rounds_list, totals_by_round, epsilon):\n",
    "    num_rounds = len(rounds_list)\n",
    "    num_actions = len(rounds_list[0])\n",
    "    choices_made = []\n",
    "    action_weights = []\n",
    "    action_probabilities = [(1/num_actions) for i in range(num_actions)]\n",
    "    current_weights = [1 for i in range(num_actions)]\n",
    "    action_weights.append(current_weights)\n",
    "    alg_payoffs = []\n",
    "    opt_payoffs = []\n",
    "    \n",
    "    for round in range(1, num_rounds):\n",
    "        last_round = round - 1\n",
    "        current_weights = [None for i in range(num_actions)]\n",
    "        for action in range(num_actions):\n",
    "            V_last = totals_by_round[last_round][action]\n",
    "            exp = V_last / num_actions\n",
    "            current_weights[action] = pow(1 + epsilon, exp)\n",
    "        #randomly select from actions using weights as probabilities\n",
    "        selected_payoff = random.choices(rounds_list[round], weights=current_weights, k=1)[0]\n",
    "        print(current_weights)\n",
    "        alg_payoffs.append(selected_payoff)  \n",
    "        opt_payoffs.append(max(rounds_list[round]))\n",
    "        action_weights.append(current_weights)\n",
    "        \n",
    "    print(\"EW alg payoff\", sum(alg_payoffs))\n",
    "    print(\"OPT payoff\", max(totals_by_round[-1]))\n",
    "    return\n",
    "\n",
    "rounds_list_1, payoff_totals_1 = generate_adversarial_payoffs(3, 10)\n",
    "epsilon_1 = 1\n",
    "simulate_exponential_weights(rounds_list_1, payoff_totals_1, epsilon_1)\n",
    "\n",
    "\n"
   ]
  },
  {
   "cell_type": "markdown",
   "id": "b382165f",
   "metadata": {},
   "source": [
    "Monte Carlo Trials\n",
    "\n",
    "- Declare size of inputs\n",
    "- Generate payoffs\n",
    "- For each learning rate $\\{\\epsilon_1, . . ., \\epsilon_n\\}$\n",
    "    - For each input\n",
    "        - Simulate the algorithm\n",
    "        - calculate OPT (best in hindsight payoff)\n",
    "        - calculate the algorithm's regret\n",
    "    - Calculate the average regret for this learning rate $\\epsilon$"
   ]
  },
  {
   "cell_type": "code",
   "execution_count": 5,
   "id": "840628cb",
   "metadata": {},
   "outputs": [],
   "source": [
    "rounds = 100\n",
    "n = 5"
   ]
  },
  {
   "cell_type": "code",
   "execution_count": null,
   "id": "3a62bc9d",
   "metadata": {},
   "outputs": [],
   "source": []
  },
  {
   "cell_type": "code",
   "execution_count": null,
   "id": "40485027",
   "metadata": {},
   "outputs": [],
   "source": []
  }
 ],
 "metadata": {
  "kernelspec": {
   "display_name": "Python 3 (ipykernel)",
   "language": "python",
   "name": "python3"
  },
  "language_info": {
   "codemirror_mode": {
    "name": "ipython",
    "version": 3
   },
   "file_extension": ".py",
   "mimetype": "text/x-python",
   "name": "python",
   "nbconvert_exporter": "python",
   "pygments_lexer": "ipython3",
   "version": "3.7.8"
  }
 },
 "nbformat": 4,
 "nbformat_minor": 5
}
