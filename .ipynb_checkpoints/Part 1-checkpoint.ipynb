{
 "cells": [
  {
   "cell_type": "markdown",
   "id": "70e4d158",
   "metadata": {},
   "source": [
    "Part 1"
   ]
  },
  {
   "cell_type": "code",
   "execution_count": null,
   "id": "9a543f7d",
   "metadata": {},
   "outputs": [],
   "source": [
    "import random"
   ]
  },
  {
   "cell_type": "markdown",
   "id": "26912867",
   "metadata": {},
   "source": [
    "Generate Distribution Functions"
   ]
  },
  {
   "cell_type": "code",
   "execution_count": 78,
   "id": "08e76197",
   "metadata": {},
   "outputs": [],
   "source": [
    "import random\n",
    "\n",
    "def sorted_indexes(payoffs):\n",
    "    vals_indexes=[]\n",
    "    ind_by_val = []\n",
    "\n",
    "    for i in range(len(payoffs)):\n",
    "        vals_indexes.append([payoffs[i],i])\n",
    "    \n",
    "    vals_indexes.sort(reverse=True)\n",
    "    for x in vals_indexes:\n",
    "        ind_by_val.append(x[1])\n",
    "    return ind_by_val\n",
    "\n",
    "def generate_adversarial_payoffs(num_actions, num_rounds):\n",
    "    rounds_list = []\n",
    "    totals_by_round = []\n",
    "    first_payoffs = [round(random.random(),2) for i in range(num_actions)]\n",
    "    total_payoffs = [first_payoffs[i] for i in range(num_actions)]\n",
    "    total_indexes = sorted_indexes(total_payoffs)\n",
    "    rounds_list.append(first_payoffs)\n",
    "    totals_by_round.append([total_payoffs[i] for i in range(num_actions)])\n",
    "    #print(total_indexes)\n",
    "    #print(total_payoffs)\n",
    "    \n",
    "    for i in range(num_rounds - 1):\n",
    "        #print(\"initial total payoffs\", total_payoffs)\n",
    "        new_payoffs = sorted([round(random.random(),2) for i in range(num_actions)])\n",
    "        adversarial_payoffs = [0 for i in range(num_actions)]\n",
    "        for i in range(num_actions):\n",
    "            adversarial_payoffs[total_indexes[i]] = new_payoffs[i]\n",
    "        \n",
    "        for i in range(num_actions):\n",
    "            #print(\"t\", total_payoffs[i], \"a\", adversarial_payoffs[i])\n",
    "            total_payoffs[i] += adversarial_payoffs[i]\n",
    "            total_payoffs[i] = round(total_payoffs[i], 2)\n",
    "        \n",
    "        total_indexes = sorted_indexes(total_payoffs)\n",
    "        new_totals = [total_payoffs[i] for i in range(num_actions)]\n",
    "        totals_by_round.append(new_totals)\n",
    "        #print(new_totals)\n",
    "        rounds_list.append(adversarial_payoffs)\n",
    "\n",
    "    print(\"utility at each round: \\n\", rounds_list)\n",
    "    print(\"totals by round: \\n\", totals_by_round)\n",
    "    print(\"final payoffs: \\n\", total_payoffs)\n",
    "    return rounds_list, totals_by_round\n",
    "\n",
    "\n",
    "#generate_adversarial_payoffs(5, 5)"
   ]
  },
  {
   "cell_type": "code",
   "execution_count": 73,
   "id": "f4baeaf0",
   "metadata": {},
   "outputs": [],
   "source": [
    "#when generating the bernoulli payoffs, generate the payoffs of each action at each round and the \n",
    "#total payoffs up to that point for each action. i.e. list of lists of payoffs/round & list of lists of aggregated payoffs.\n",
    "#uncomment the last line of the generate_adversarial_payoffs section for an example\n",
    "def generate_bernoulli_payoffs(num_actions, num_rounds):\n",
    "    pass\n",
    "\n",
    "def generate_random_payoffs(num_actions, num_rounds):\n",
    "    pass"
   ]
  },
  {
   "cell_type": "markdown",
   "id": "03c9560f",
   "metadata": {},
   "source": [
    "Simulate Algorithm Behavior Functions"
   ]
  },
  {
   "cell_type": "code",
   "execution_count": 91,
   "id": "f56e3ca7",
   "metadata": {},
   "outputs": [
    {
     "name": "stdout",
     "output_type": "stream",
     "text": [
      "utility at each round: \n",
      " [[0.52, 0.01, 0.82], [0.7, 0.76, 0.54], [0.35, 0.85, 0.01], [0.77, 0.3, 0.92], [0.14, 0.76, 0.58], [0.54, 0.49, 0.15], [0.92, 0.03, 0.8], [0.13, 0.83, 0.53], [0.93, 0.97, 0.55], [0.54, 0.27, 0.77]]\n",
      "totals by round: \n",
      " [[0.52, 0.01, 0.82], [1.22, 0.77, 1.36], [1.57, 1.62, 1.37], [2.34, 1.92, 2.29], [2.48, 2.68, 2.87], [3.02, 3.17, 3.02], [3.94, 3.2, 3.82], [4.07, 4.03, 4.35], [5.0, 5.0, 4.9], [5.54, 5.27, 5.67]]\n",
      "final payoffs: \n",
      " [5.54, 5.27, 5.67]\n",
      "[0.54]\n",
      "[[1, 1, 1], [1.1276609270458045, 1.0023131618421728, 1.208597056346768]]\n",
      "[0.01]\n",
      "[[1, 1, 1], [1.1276609270458045, 1.0023131618421728, 1.208597056346768], [1.3256194417865286, 1.1947151351560195, 1.369200128951192]]\n",
      "[0.92]\n",
      "[[1, 1, 1], [1.1276609270458045, 1.0023131618421728, 1.208597056346768], [1.3256194417865286, 1.1947151351560195, 1.369200128951192], [1.437272218578921, 1.4539725173203106, 1.37236731044378]]\n",
      "[0.58]\n",
      "[[1, 1, 1], [1.1276609270458045, 1.0023131618421728, 1.208597056346768], [1.3256194417865286, 1.1947151351560195, 1.369200128951192], [1.437272218578921, 1.4539725173203106, 1.37236731044378], [1.7171308728755075, 1.5583291593209998, 1.6974079426182458]]\n",
      "[0.15]\n",
      "[[1, 1, 1], [1.1276609270458045, 1.0023131618421728, 1.208597056346768], [1.3256194417865286, 1.1947151351560195, 1.369200128951192], [1.437272218578921, 1.4539725173203106, 1.37236731044378], [1.7171308728755075, 1.5583291593209998, 1.6974079426182458], [1.773582778326381, 1.8574628200770973, 1.940820462987081]]\n",
      "[0.8]\n",
      "[[1, 1, 1], [1.1276609270458045, 1.0023131618421728, 1.208597056346768], [1.3256194417865286, 1.1947151351560195, 1.369200128951192], [1.437272218578921, 1.4539725173203106, 1.37236731044378], [1.7171308728755075, 1.5583291593209998, 1.6974079426182458], [1.773582778326381, 1.8574628200770973, 1.940820462987081], [2.0092633488041076, 2.0801198677769555, 2.0092633488041076]]\n",
      "[0.13]\n",
      "[[1, 1, 1], [1.1276609270458045, 1.0023131618421728, 1.208597056346768], [1.3256194417865286, 1.1947151351560195, 1.369200128951192], [1.437272218578921, 1.4539725173203106, 1.37236731044378], [1.7171308728755075, 1.5583291593209998, 1.6974079426182458], [1.773582778326381, 1.8574628200770973, 1.940820462987081], [2.0092633488041076, 2.0801198677769555, 2.0092633488041076], [2.485150688971866, 2.0945882456412535, 2.4171941126935357]]\n",
      "[0.93]\n",
      "[[1, 1, 1], [1.1276609270458045, 1.0023131618421728, 1.208597056346768], [1.3256194417865286, 1.1947151351560195, 1.369200128951192], [1.437272218578921, 1.4539725173203106, 1.37236731044378], [1.7171308728755075, 1.5583291593209998, 1.6974079426182458], [1.773582778326381, 1.8574628200770973, 1.940820462987081], [2.0092633488041076, 2.0801198677769555, 2.0092633488041076], [2.485150688971866, 2.0945882456412535, 2.4171941126935357], [2.5609279543013646, 2.5373689876498617, 2.732080513508791]]\n",
      "[0.27]\n",
      "[[1, 1, 1], [1.1276609270458045, 1.0023131618421728, 1.208597056346768], [1.3256194417865286, 1.1947151351560195, 1.369200128951192], [1.437272218578921, 1.4539725173203106, 1.37236731044378], [1.7171308728755075, 1.5583291593209998, 1.6974079426182458], [1.773582778326381, 1.8574628200770973, 1.940820462987081], [2.0092633488041076, 2.0801198677769555, 2.0092633488041076], [2.485150688971866, 2.0945882456412535, 2.4171941126935357], [2.5609279543013646, 2.5373689876498617, 2.732080513508791], [3.174802103936399, 3.174802103936399, 3.1022895236674697]]\n"
     ]
    }
   ],
   "source": [
    "def simulate_random_guessing(round, inputs):\n",
    "    #epsilon = 0\n",
    "    pass\n",
    "\n",
    "def simulate_exponential_weights(rounds_list, totals_by_round, epsilon):\n",
    "    num_rounds = len(rounds_list)\n",
    "    num_actions = len(rounds_list[0])\n",
    "    choices_made = []\n",
    "    action_weights = []\n",
    "    action_probabilities = [(1/num_actions) for i in range(num_actions)]\n",
    "    current_weights = [1 for i in range(num_actions)]\n",
    "    action_weights.append(current_weights)\n",
    "    alg_payoffs = []\n",
    "    opt_payoffs = []\n",
    "    \n",
    "    for round in range(1, num_rounds):\n",
    "        last_round = round - 1\n",
    "        current_weights = [None for i in range(num_actions)]\n",
    "        for action in range(num_actions):\n",
    "            V_last = totals_by_round[last_round][action]\n",
    "            exp = V_last / num_actions\n",
    "            current_weights[action] = pow(1 + epsilon, exp)\n",
    "            #randomly select from actions using weights as probabilities\n",
    "        selected_payoff = random.choices(rounds_list[round], weights=current_weights, k=1)\n",
    "        alg_payoffs.append(selected_payoff)  \n",
    "        opt_payoffs.append(max(rounds_list[round]))\n",
    "        action_weights.append(current_weights)\n",
    "        \n",
    "    return\n",
    "\n",
    "rounds_list_1, payoff_totals_1 = generate_adversarial_payoffs(3, 10)\n",
    "epsilon_1 = 1\n",
    "simulate_exponential_weights(rounds_list_1, payoff_totals_1, epsilon_1)\n",
    "\n",
    "def simulate_follow_leader(round, inputs):\n",
    "    #epsilon = inf or implemented manually\n",
    "    pass\n",
    "\n",
    "def calculate_opt(round, inputs):\n",
    "    pass\n"
   ]
  },
  {
   "cell_type": "markdown",
   "id": "b382165f",
   "metadata": {},
   "source": [
    "Monte Carlo Trials\n",
    "\n",
    "- Declare size of inputs\n",
    "- Generate payoffs\n",
    "- For each learning rate $\\{\\epsilon_1, . . ., \\epsilon_n\\}$\n",
    "    - For each input\n",
    "        - Simulate the algorithm\n",
    "        - calculate OPT (best in hindsight payoff)\n",
    "        - calculate the algorithm's regret\n",
    "    - Calculate the average regret for this learning rate $\\epsilon$"
   ]
  },
  {
   "cell_type": "code",
   "execution_count": 8,
   "id": "840628cb",
   "metadata": {},
   "outputs": [],
   "source": [
    "rounds = 100\n",
    "n = 5"
   ]
  },
  {
   "cell_type": "code",
   "execution_count": null,
   "id": "3a62bc9d",
   "metadata": {},
   "outputs": [],
   "source": []
  },
  {
   "cell_type": "code",
   "execution_count": null,
   "id": "40485027",
   "metadata": {},
   "outputs": [],
   "source": []
  }
 ],
 "metadata": {
  "kernelspec": {
   "display_name": "Python 3 (ipykernel)",
   "language": "python",
   "name": "python3"
  },
  "language_info": {
   "codemirror_mode": {
    "name": "ipython",
    "version": 3
   },
   "file_extension": ".py",
   "mimetype": "text/x-python",
   "name": "python",
   "nbconvert_exporter": "python",
   "pygments_lexer": "ipython3",
   "version": "3.10.1"
  }
 },
 "nbformat": 4,
 "nbformat_minor": 5
}
